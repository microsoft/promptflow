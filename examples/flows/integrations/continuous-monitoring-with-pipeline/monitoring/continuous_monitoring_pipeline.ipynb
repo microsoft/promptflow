{
 "cells": [
  {
   "cell_type": "markdown",
   "metadata": {},
   "source": [
    "# Continuous Monitoring Pipeline"
   ]
  },
  {
   "cell_type": "markdown",
   "metadata": {},
   "source": [
    "This tutorial describes an advanced use case of [running flows in Azure ML Pipelines](https://github.com/microsoft/promptflow/blob/main/examples/tutorials/run-flow-with-pipeline/pipeline.ipynb).  \n",
    "The detailed explanations of the prerequisites and principles can be found in the aforementioned article.\n",
    "Continuous monitoring is necessary to maintain the quality, performance and efficiency of Generative AI applications.  \n",
    "These factors directly impact the user experience and operational costs.  \n",
    "\n",
    "We will run evaluations on a basic chatbot flow, then aggregate the results to export and visualize the metrics.  \n",
    "The flows used in this pipeline are described below:\n",
    "- [Basic Chat](https://github.com/microsoft/promptflow/tree/main/examples/flows/chat/chat-basic)\n",
    "- [Q&A Evaluation](https://github.com/microsoft/promptflow/tree/main/examples/flows/evaluation/eval-qna-rag-metrics)\n",
    "- [Perceived Intelligence Evaluation](https://github.com/microsoft/promptflow/tree/main/examples/flows/evaluation/eval-perceived-intelligence)\n",
    "- [Summarization Evaluation](https://github.com/microsoft/promptflow/tree/main/examples/flows/evaluation/eval-summarization)\n",
    "\n",
    "![continuous_monitoring_pipeline.png](./media/continuous_monitoring_pipeline.png)\n"
   ]
  },
  {
   "cell_type": "markdown",
   "metadata": {},
   "source": [
    "# 1.1 Import the required libraries\n",
    "## Install the required python packages\n",
    "Make sure version of ‘azure-ai-ml’ is higher than 1.12.0"
   ]
  },
  {
   "cell_type": "code",
   "execution_count": null,
   "metadata": {},
   "outputs": [],
   "source": [
    "# import required libraries\n",
    "from azure.identity import DefaultAzureCredential, InteractiveBrowserCredential\n",
    "from azure.ai.ml import MLClient, load_component, Input, Output\n",
    "from azure.ai.ml.constants import AssetTypes\n",
    "from azure.ai.ml.dsl import pipeline\n",
    "from datetime import datetime"
   ]
  },
  {
   "cell_type": "markdown",
   "metadata": {},
   "source": [
    "# 1.2 Configure credential"
   ]
  },
  {
   "cell_type": "code",
   "execution_count": null,
   "metadata": {},
   "outputs": [],
   "source": [
    "try:\n",
    "    credential = DefaultAzureCredential()\n",
    "    # Check if given credential can get token successfully.\n",
    "    credential.get_token(\"https://management.azure.com/.default\")\n",
    "except Exception as ex:\n",
    "    # Fall back to InteractiveBrowserCredential in case DefaultAzureCredential not work\n",
    "    credential = InteractiveBrowserCredential()"
   ]
  },
  {
   "cell_type": "markdown",
   "metadata": {},
   "source": [
    "# 1.3 Get a handle to the workspace"
   ]
  },
  {
   "cell_type": "code",
   "execution_count": null,
   "metadata": {},
   "outputs": [],
   "source": [
    "# Get a handle to workspace\n",
    "ml_client = MLClient.from_config(credential=credential)"
   ]
  },
  {
   "cell_type": "markdown",
   "metadata": {},
   "source": [
    "# 1.4.1 Validate Basic Chat Flow\n",
    "## Import the flow required packages\n",
    "pip install -r ../../../flows/chat/chat-basic/requirements.txt"
   ]
  },
  {
   "cell_type": "code",
   "execution_count": null,
   "metadata": {},
   "outputs": [],
   "source": [
    "!pf flow validate --source ../../../flows/chat/chat-basic"
   ]
  },
  {
   "cell_type": "markdown",
   "metadata": {},
   "source": [
    "# 1.4.2 Validate QnA RAG Evaluation Flow\n",
    "## Import the flow required packages\n",
    "pip install -r ../../../flows/evaluation/eval-qna-rag-metrics/requirements.txt"
   ]
  },
  {
   "cell_type": "code",
   "execution_count": null,
   "metadata": {},
   "outputs": [],
   "source": [
    "!pf flow validate --source ../../../flows/evaluation/eval-qna-rag-metrics"
   ]
  },
  {
   "cell_type": "markdown",
   "metadata": {},
   "source": [
    "# 1.4.3 Validate Perceived Intelligence Evaluation Flow\n",
    "## Import the flow required packages\n",
    "pip install -r ../../../flows/evaluation/eval-perceived-intelligence/requirements.txt"
   ]
  },
  {
   "cell_type": "code",
   "execution_count": null,
   "metadata": {},
   "outputs": [],
   "source": [
    "!pf flow validate --source ../../../flows/evaluation/eval-perceived-intelligence"
   ]
  },
  {
   "cell_type": "markdown",
   "metadata": {},
   "source": [
    "# 1.4.4 Validate Summarization flow\n",
    "pip install -r ../flows/standard/simple-summarization/requirements.txt"
   ]
  },
  {
   "cell_type": "code",
   "execution_count": null,
   "metadata": {},
   "outputs": [],
   "source": [
    "!pf flow validate --source ./flows/standard/simple-summarization"
   ]
  },
  {
   "cell_type": "markdown",
   "metadata": {},
   "source": [
    "# 1.4.5 Validate Summarization Evaluation flow\n",
    "pip install -r ../../../flows/evaluation/eval-summarization/requirements.txt"
   ]
  },
  {
   "cell_type": "code",
   "execution_count": null,
   "metadata": {},
   "outputs": [],
   "source": [
    "!pf flow validate --source ../../../flows/evaluation/eval-summarization"
   ]
  },
  {
   "cell_type": "markdown",
   "metadata": {},
   "source": [
    "# 2. Load Chat flow as component"
   ]
  },
  {
   "cell_type": "code",
   "execution_count": null,
   "metadata": {},
   "outputs": [],
   "source": [
    "chat_flow_component = load_component(\"../../../flows/chat/chat-basic/flow.dag.yaml\")"
   ]
  },
  {
   "cell_type": "markdown",
   "metadata": {},
   "source": [
    "# 2.1 Load QnA RAG Evaluation flow as component"
   ]
  },
  {
   "cell_type": "code",
   "execution_count": null,
   "metadata": {},
   "outputs": [],
   "source": [
    "eval_qna_rag_metrics_component = load_component(\n",
    "    \"../../../flows/evaluation/eval-qna-rag-metrics/flow.dag.yaml\"\n",
    ")"
   ]
  },
  {
   "cell_type": "markdown",
   "metadata": {},
   "source": [
    "# 2.2 Load Perceived Intelligence flow as component"
   ]
  },
  {
   "cell_type": "code",
   "execution_count": null,
   "metadata": {},
   "outputs": [],
   "source": [
    "eval_perceived_intelligence_component = load_component(\n",
    "    \"../../../flows/evaluation/eval-perceived-intelligence/flow.dag.yaml\"\n",
    ")"
   ]
  },
  {
   "cell_type": "markdown",
   "metadata": {},
   "source": [
    "# 2.3 Load Summarization flow as component"
   ]
  },
  {
   "cell_type": "code",
   "execution_count": null,
   "metadata": {},
   "outputs": [],
   "source": [
    "simple_summarization_component = load_component(\n",
    "    \"./flows/standard/simple-summarization/flow.dag.yaml\"\n",
    ")"
   ]
  },
  {
   "cell_type": "markdown",
   "metadata": {},
   "source": [
    "# 2.4 Load Summarization Evaluation flow as component"
   ]
  },
  {
   "cell_type": "code",
   "execution_count": null,
   "metadata": {},
   "outputs": [],
   "source": [
    "eval_summarization_component = load_component(\n",
    "    \"../../../flows/evaluation/eval-summarization/flow.dag.yaml\"\n",
    ")"
   ]
  },
  {
   "cell_type": "markdown",
   "metadata": {},
   "source": [
    "# 2.3 Load Parquet Converter\n",
    "The Parquet Converter is a [command component](https://learn.microsoft.com/en-us/azure/machine-learning/reference-yaml-component-command?view=azureml-api-2) that aggregates the results of the evaluations node and logs the metrics to ML Pipelines.  \n",
    "\n",
    "![convert_parquet.png](./media/convert_parquet.png)\n"
   ]
  },
  {
   "cell_type": "code",
   "execution_count": null,
   "metadata": {},
   "outputs": [],
   "source": [
    "convert_parquet_component = load_component(\n",
    "    \"./components/convert_parquet/convert_parquet.yaml\"\n",
    ")"
   ]
  },
  {
   "cell_type": "markdown",
   "metadata": {},
   "source": [
    "# 3.1 Declare input and output"
   ]
  },
  {
   "cell_type": "code",
   "execution_count": null,
   "metadata": {},
   "outputs": [],
   "source": [
    "data_input = Input(\n",
    "    path=\"./data/monitoring_dataset.jsonl\",\n",
    "    type=AssetTypes.URI_FILE,\n",
    "    mode=\"mount\",\n",
    ")\n",
    "\n",
    "eval_results_output = Output(\n",
    "    # Provide custom flow output file path if needed\n",
    "    # path=\"azureml://datastores/<data_store_name>/paths/<path>\",\n",
    "    type=AssetTypes.URI_FOLDER,\n",
    "    # rw_mount is suggested for flow output\n",
    "    mode=\"rw_mount\",\n",
    ")"
   ]
  },
  {
   "cell_type": "markdown",
   "metadata": {},
   "source": [
    "# 3.2.1 Run pipeline with single flow component"
   ]
  },
  {
   "cell_type": "code",
   "execution_count": null,
   "metadata": {},
   "outputs": [],
   "source": [
    "# Define the pipeline as a function\n",
    "@pipeline()\n",
    "def continuous_monitoring(\n",
    "    # Function inputs will be treated as pipeline input data or parameters.\n",
    "    # Pipeline input could be linked to step inputs to pass data between steps.\n",
    "    # Users are not required to define pipeline inputs.\n",
    "    # With pipeline inputs, user can provide the different data or values when they trigger different pipeline runs.\n",
    "    pipeline_input_data: Input,\n",
    "    parallel_node_count: int = 1,\n",
    "):\n",
    "    # Declare pipeline step 'flow_node' by using flow component\n",
    "    chat_flow_node = chat_flow_component(\n",
    "        # Bind the pipeline input data to the port 'data' of the flow component\n",
    "        # If you don't have pipeline input, you can directly pass the 'data_input' object to the 'data'\n",
    "        # But with this approach, you can't provide different data when you trigger different pipeline runs.\n",
    "        data=pipeline_input_data,\n",
    "        # Declare which column of input data should be mapped to flow input\n",
    "        # the value pattern follows ${data.<column_name_from_data_input>}\n",
    "        chat_history=\"${data.chat_history}\",\n",
    "        question=\"${data.question}\",\n",
    "        # Provide the connection values of the flow component\n",
    "        # The value of connection and deployment_name should align with your workspace connection settings.\n",
    "        connections={\n",
    "            \"chat\": {\n",
    "                \"connection\": \"azure_open_ai_connection\",\n",
    "                \"deployment_name\": \"gpt-35-turbo\",\n",
    "            }\n",
    "        },\n",
    "    )\n",
    "\n",
    "    # Provide run settings of your flow component\n",
    "    # Only 'compute' is required and other setting will keep default value if not provided.\n",
    "    # If the workspace has been created with Azure AI Studio is inside a hub,\n",
    "    # a Compute Cluster cannot be used, use a Serverless instance instead.\n",
    "    chat_flow_node.environment_variables = {\n",
    "        \"PF_INPUT_FORMAT\": \"jsonl\",\n",
    "    }\n",
    "    chat_flow_node.compute = \"serverless\"\n",
    "    chat_flow_node.resources = {\"instance_count\": parallel_node_count}\n",
    "    chat_flow_node.mini_batch_size = 5\n",
    "    chat_flow_node.max_concurrency_per_instance = 2\n",
    "    chat_flow_node.retry_settings = {\n",
    "        \"max_retries\": 1,\n",
    "        \"timeout\": 1200,\n",
    "    }\n",
    "    chat_flow_node.error_threshold = -1\n",
    "    chat_flow_node.mini_batch_error_threshold = -1\n",
    "    chat_flow_node.logging_level = \"DEBUG\"\n",
    "\n",
    "    # QnA RAG Metrics Evaluation Node\n",
    "    eval_qna_rag_metrics_node = eval_qna_rag_metrics_component(\n",
    "        # Bind the pipeline input data to the port 'data' of the flow component\n",
    "        # If you don't have pipeline input, you can directly pass the 'data_input' object to the 'data'\n",
    "        # But with this approach, you can't provide different data when you trigger different pipeline runs.\n",
    "        data=pipeline_input_data,\n",
    "        # run_outputs connects the output of a previous node\n",
    "        run_outputs=chat_flow_node.outputs.flow_outputs,\n",
    "        # Declare which column of input data should be mapped to flow input\n",
    "        # the value pattern follows ${data.<column_name_from_data_input>}\n",
    "        documents=\"${data.documents}\",\n",
    "        question=\"${data.question}\",\n",
    "        # Declare which column of previous node output should be mapped to flow input\n",
    "        # the value pattern follows ${run.outputs.<column_name_from_data_input>}\n",
    "        answer=\"${run.outputs.answer}\",\n",
    "        # Provide the connection values of the flow component\n",
    "        # The value of connection and deployment_name should align with your workspace connection settings.\n",
    "        connections={\n",
    "            \"gpt_groundedness\": {\n",
    "                \"connection\": \"azure_open_ai_connection\",\n",
    "                \"deployment_name\": \"gpt-35-turbo\",\n",
    "            },\n",
    "            \"gpt_relevance\": {\n",
    "                \"connection\": \"azure_open_ai_connection\",\n",
    "                \"deployment_name\": \"gpt-35-turbo\",\n",
    "            },\n",
    "            \"gpt_retrieval_score\": {\n",
    "                \"connection\": \"azure_open_ai_connection\",\n",
    "                \"deployment_name\": \"gpt-35-turbo\",\n",
    "            },\n",
    "        },\n",
    "    )\n",
    "\n",
    "    # Provide run settings of your flow component\n",
    "    # Only 'compute' is required and other setting will keep default value if not provided.\n",
    "    # If the workspace has been created with Azure AI Studio is inside a hub,\n",
    "    # a Compute Cluster cannot be used, use a Serverless instance instead.\n",
    "    eval_qna_rag_metrics_node.environment_variables = {\n",
    "        \"PF_INPUT_FORMAT\": \"jsonl\",\n",
    "    }\n",
    "    eval_qna_rag_metrics_node.compute = \"serverless\"\n",
    "    eval_qna_rag_metrics_node.resources = {\"instance_count\": parallel_node_count}\n",
    "    eval_qna_rag_metrics_node.mini_batch_size = 5\n",
    "    eval_qna_rag_metrics_node.max_concurrency_per_instance = 2\n",
    "    eval_qna_rag_metrics_node.retry_settings = {\n",
    "        \"max_retries\": 1,\n",
    "        \"timeout\": 1200,\n",
    "    }\n",
    "    eval_qna_rag_metrics_node.error_threshold = -1\n",
    "    eval_qna_rag_metrics_node.mini_batch_error_threshold = -1\n",
    "    eval_qna_rag_metrics_node.logging_level = \"DEBUG\"\n",
    "\n",
    "    # Perceived Intelligence Evaluation Node\n",
    "    eval_perceived_intelligence_node = eval_perceived_intelligence_component(\n",
    "        # Bind the pipeline input data to the port 'data' of the flow component\n",
    "        # If you don't have pipeline input, you can directly pass the 'data_input' object to the 'data'\n",
    "        # But with this approach, you can't provide different data when you trigger different pipeline runs.\n",
    "        data=pipeline_input_data,\n",
    "        # run_outputs connects the output of a previous node\n",
    "        run_outputs=chat_flow_node.outputs.flow_outputs,\n",
    "        # Declare which column of input data should be mapped to flow input\n",
    "        # the value pattern follows ${data.<column_name_from_data_input>}\n",
    "        question=\"${data.question}\",\n",
    "        context=\"${data.context}\",\n",
    "        # Declare which column of previous node output should be mapped to flow input\n",
    "        # the value pattern follows ${run.outputs.<column_name_from_data_input>}\n",
    "        answer=\"${run.outputs.answer}\",\n",
    "        # Provide the connection values of the flow component\n",
    "        # The value of connection and deployment_name should align with your workspace connection settings.\n",
    "        connections={\n",
    "            \"gpt_perceived_intelligence\": {\n",
    "                \"connection\": \"azure_open_ai_connection\",\n",
    "                \"deployment_name\": \"gpt-35-turbo\",\n",
    "            }\n",
    "        },\n",
    "    )\n",
    "\n",
    "    # Provide run settings of your flow component\n",
    "    # Only 'compute' is required and other setting will keep default value if not provided.\n",
    "    # If the workspace has been created with Azure AI Studio is inside a hub,\n",
    "    # a Compute Cluster cannot be used, use a Serverless instance instead.\n",
    "    eval_perceived_intelligence_node.environment_variables = {\n",
    "        \"PF_INPUT_FORMAT\": \"jsonl\",\n",
    "    }\n",
    "    eval_perceived_intelligence_node.compute = \"serverless\"\n",
    "    eval_perceived_intelligence_node.resources = {\"instance_count\": parallel_node_count}\n",
    "    eval_perceived_intelligence_node.mini_batch_size = 5\n",
    "    eval_perceived_intelligence_node.max_concurrency_per_instance = 2\n",
    "    eval_perceived_intelligence_node.retry_settings = {\n",
    "        \"max_retries\": 1,\n",
    "        \"timeout\": 1200,\n",
    "    }\n",
    "    eval_perceived_intelligence_node.error_threshold = -1\n",
    "    eval_perceived_intelligence_node.mini_batch_error_threshold = -1\n",
    "    eval_perceived_intelligence_node.logging_level = \"DEBUG\"\n",
    "\n",
    "    # Summarization Node\n",
    "    simple_summarization_node = simple_summarization_component(\n",
    "        # Bind the pipeline input data to the port 'data' of the flow component\n",
    "        # If you don't have pipeline input, you can directly pass the 'data_input' object to the 'data'\n",
    "        # But with this approach, you can't provide different data when you trigger different pipeline runs.\n",
    "        data=pipeline_input_data,\n",
    "        # run_outputs connects the output of a previous node\n",
    "        run_outputs=chat_flow_node.outputs.flow_outputs,\n",
    "        # Declare which column of previous node output should be mapped to flow input\n",
    "        # the value pattern follows ${run.outputs.<column_name_from_data_input>}\n",
    "        answer=\"${run.outputs.answer}\",\n",
    "        # Provide the connection values of the flow component\n",
    "        # The value of connection and deployment_name should align with your workspace connection settings.\n",
    "        connections={\n",
    "            \"summarize_text_content\": {\n",
    "                \"connection\": \"azure_open_ai_connection\",\n",
    "                \"deployment_name\": \"gpt-35-turbo\",\n",
    "            }\n",
    "        },\n",
    "    )\n",
    "\n",
    "    # Provide run settings of your flow component\n",
    "    # Only 'compute' is required and other setting will keep default value if not provided.\n",
    "    # If the workspace has been created with Azure AI Studio is inside a hub,\n",
    "    # a Compute Cluster cannot be used, use a Serverless instance instead.\n",
    "    simple_summarization_node.environment_variables = {\n",
    "        \"PF_INPUT_FORMAT\": \"jsonl\",\n",
    "    }\n",
    "    simple_summarization_node.compute = \"serverless\"\n",
    "    simple_summarization_node.resources = {\"instance_count\": parallel_node_count}\n",
    "    simple_summarization_node.mini_batch_size = 5\n",
    "    simple_summarization_node.max_concurrency_per_instance = 2\n",
    "    simple_summarization_node.retry_settings = {\n",
    "        \"max_retries\": 1,\n",
    "        \"timeout\": 1200,\n",
    "    }\n",
    "    simple_summarization_node.error_threshold = -1\n",
    "    simple_summarization_node.mini_batch_error_threshold = -1\n",
    "    simple_summarization_node.logging_level = \"DEBUG\"\n",
    "\n",
    "    # Summarization Evaluation Node\n",
    "    eval_summarization_node = eval_summarization_component(\n",
    "        # Bind the pipeline input data to the port 'data' of the flow component\n",
    "        # If you don't have pipeline input, you can directly pass the 'data_input' object to the 'data'\n",
    "        # But with this approach, you can't provide different data when you trigger different pipeline runs.\n",
    "        data=simple_summarization_node.outputs.flow_outputs,\n",
    "        # run_outputs connects the output of a previous node\n",
    "        run_outputs=chat_flow_node.outputs.flow_outputs,\n",
    "        # Declare which column of input data should be mapped to flow input\n",
    "        # the value pattern follows ${data.<column_name_from_data_input>}\n",
    "        summary=\"${data.summary}\",\n",
    "        # Declare which column of previous node output should be mapped to flow input\n",
    "        # the value pattern follows ${run.outputs.<column_name_from_data_input>}\n",
    "        document=\"${run.outputs.answer}\",\n",
    "        # Provide the connection values of the flow component\n",
    "        # The value of connection and deployment_name should align with your workspace connection settings.\n",
    "        connections={\n",
    "            \"score_fluency\": {\n",
    "                \"connection\": \"azure_open_ai_connection\",\n",
    "            },\n",
    "            \"score_consistency\": {\n",
    "                \"connection\": \"azure_open_ai_connection\",\n",
    "            },\n",
    "            \"score_relevance\": {\n",
    "                \"connection\": \"azure_open_ai_connection\",\n",
    "            },\n",
    "            \"score_coherence\": {\n",
    "                \"connection\": \"azure_open_ai_connection\",\n",
    "            },\n",
    "        },\n",
    "    )\n",
    "\n",
    "    # Provide run settings of your flow component\n",
    "    # Only 'compute' is required and other setting will keep default value if not provided.\n",
    "    # If the workspace has been created with Azure AI Studio is inside a hub,\n",
    "    # a Compute Cluster cannot be used, use a Serverless instance instead.\n",
    "    eval_summarization_node.environment_variables = {\n",
    "        \"PF_INPUT_FORMAT\": \"jsonl\",\n",
    "    }\n",
    "    eval_summarization_node.compute = \"serverless\"\n",
    "    eval_summarization_node.resources = {\"instance_count\": parallel_node_count}\n",
    "    eval_summarization_node.mini_batch_size = 5\n",
    "    eval_summarization_node.max_concurrency_per_instance = 2\n",
    "    eval_summarization_node.retry_settings = {\n",
    "        \"max_retries\": 1,\n",
    "        \"timeout\": 1200,\n",
    "    }\n",
    "    eval_summarization_node.error_threshold = -1\n",
    "    eval_summarization_node.mini_batch_error_threshold = -1\n",
    "    eval_summarization_node.logging_level = \"DEBUG\"\n",
    "\n",
    "    convert_parquet_node = convert_parquet_component(\n",
    "        # Bind the evaluation nodes outputs to the command component's input\n",
    "        eval_qna_rag_metrics_output_folder=eval_qna_rag_metrics_node.outputs.flow_outputs,\n",
    "        eval_perceived_intelligence_output_folder=eval_perceived_intelligence_node.outputs.flow_outputs,\n",
    "        eval_summarization_output_folder=eval_summarization_node.outputs.flow_outputs,\n",
    "    )\n",
    "\n",
    "    # Provide run settings of your flow component\n",
    "    # Only 'compute' is required and other setting will keep default value if not provided.\n",
    "    # If the workspace has been created with Azure AI Studio is inside a hub,\n",
    "    # a Compute Cluster cannot be used, use a Serverless instance instead.\n",
    "    convert_parquet_node.compute = \"serverless\"\n",
    "    # Function return will be treated as pipeline output. This is not required.\n",
    "    return {\n",
    "        \"eval_results_output_folder\": convert_parquet_node.outputs.eval_results_output\n",
    "    }\n",
    "\n",
    "\n",
    "# create pipeline instance\n",
    "pipeline_job_def = continuous_monitoring(pipeline_input_data=data_input)\n",
    "pipeline_job_def.outputs.eval_results_output_folder = eval_results_output"
   ]
  },
  {
   "cell_type": "markdown",
   "metadata": {},
   "source": [
    "# 3.2.2 Submit the job"
   ]
  },
  {
   "cell_type": "code",
   "execution_count": null,
   "metadata": {},
   "outputs": [],
   "source": [
    "# Submit the pipeline job to your workspace\n",
    "pipeline_job_run = ml_client.jobs.create_or_update(\n",
    "    pipeline_job_def, experiment_name=\"Continuous Monitoring\"\n",
    ")\n",
    "pipeline_job_run\n",
    "\n",
    "ml_client.jobs.stream(pipeline_job_run.name)"
   ]
  },
  {
   "cell_type": "markdown",
   "metadata": {},
   "source": [
    "# 4.1 Next step - Setup scheduler for your pipeline"
   ]
  },
  {
   "cell_type": "code",
   "execution_count": null,
   "metadata": {},
   "outputs": [],
   "source": [
    "from datetime import datetime\n",
    "from azure.ai.ml.entities import JobSchedule, RecurrenceTrigger, RecurrencePattern\n",
    "from azure.ai.ml.constants import TimeZone\n",
    "\n",
    "schedule_name = \"simple_sdk_create_schedule_recurrence\"\n",
    "schedule_start_time = datetime.utcnow()\n",
    "\n",
    "recurrence_trigger = RecurrenceTrigger(\n",
    "    frequency=\"day\",  # could accept \"hour\", \"minute\", \"day\", \"week\", \"month\"\n",
    "    interval=1,\n",
    "    schedule=RecurrencePattern(hours=10, minutes=[0, 1]),\n",
    "    start_time=schedule_start_time,\n",
    "    time_zone=TimeZone.UTC,\n",
    ")\n",
    "\n",
    "job_schedule = JobSchedule(\n",
    "    name=schedule_name,\n",
    "    trigger=recurrence_trigger,\n",
    "    # Declare the pipeline job to be scheduled. Here we uses the pipeline job created in previous example.\n",
    "    create_job=pipeline_job_def,\n",
    ")"
   ]
  },
  {
   "cell_type": "markdown",
   "metadata": {},
   "source": [
    "#  Initiate the scheduler"
   ]
  },
  {
   "cell_type": "code",
   "execution_count": null,
   "metadata": {},
   "outputs": [],
   "source": [
    "job_schedule = ml_client.schedules.begin_create_or_update(\n",
    "    schedule=job_schedule\n",
    ").result()\n",
    "print(job_schedule)"
   ]
  },
  {
   "cell_type": "markdown",
   "metadata": {},
   "source": [
    "# To disable or shut down a running scheduler"
   ]
  },
  {
   "cell_type": "code",
   "execution_count": null,
   "metadata": {},
   "outputs": [],
   "source": [
    "job_schedule = ml_client.schedules.begin_disable(name=schedule_name).result()\n",
    "job_schedule.is_enabled"
   ]
  },
  {
   "cell_type": "markdown",
   "metadata": {},
   "source": [
    "# 4.2 Next step - Deploy pipeline to an endpoint"
   ]
  },
  {
   "cell_type": "code",
   "execution_count": null,
   "metadata": {},
   "outputs": [],
   "source": [
    "from azure.ai.ml.entities import BatchEndpoint, PipelineComponentBatchDeployment\n",
    "\n",
    "# from azure.ai.ml.entities import ModelBatchDeployment, ModelBatchDeploymentSettings, Model, AmlCompute, Data, BatchRetrySettings, CodeConfiguration, Environment, Data\n",
    "# from azure.ai.ml.constants import BatchDeploymentOutputAction\n",
    "\n",
    "\n",
    "endpoint_name = \"hello-my-pipeline-endpoint\"\n",
    "endpoint = BatchEndpoint(\n",
    "    name=endpoint_name,\n",
    "    description=\"A hello world endpoint for pipeline\",\n",
    ")\n",
    "\n",
    "ml_client.batch_endpoints.begin_create_or_update(endpoint).result()"
   ]
  }
 ],
 "metadata": {
  "build_doc": {
   "author": [
    "loubigard@github.com"
   ],
   "category": "azure",
   "section": "Flow",
   "weight": 40
  },
  "description": "A tutorial to create a pipeline using components to do continuous monitoring on a Gen AI application",
  "kernelspec": {
   "display_name": "Python 3",
   "language": "python",
   "name": "python3"
  },
  "language_info": {
   "codemirror_mode": {
    "name": "ipython",
    "version": 3
   },
   "file_extension": ".py",
   "mimetype": "text/x-python",
   "name": "python",
   "nbconvert_exporter": "python",
   "pygments_lexer": "ipython3",
   "version": "3.9.19"
  },
  "resources": "examples/flows/chat/chat-basic,examples/flows/evaluation/eval-qna-rag-metrics,examples/flows/evaluation/eval-perceived-intelligence,examples/flows/evaluation/eval-summarization"
 },
 "nbformat": 4,
 "nbformat_minor": 2
}
